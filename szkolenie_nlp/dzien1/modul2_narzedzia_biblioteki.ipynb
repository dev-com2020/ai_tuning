{
 "cells": [
  {
   "cell_type": "markdown",
   "metadata": {},
   "source": [
    "# Dzień 1 - Moduł 2: Narzędzia i biblioteki do NLP\n",
    "\n",
    "## Cele modułu:\n",
    "- Poznanie najpopularniejszych bibliotek NLP w Pythonie\n",
    "- Instalacja i konfiguracja narzędzi\n",
    "- Praktyczne porównanie NLTK, spaCy i Hugging Face\n",
    "- Integracja z OpenAI API"
   ]
  },
  {
   "cell_type": "markdown",
   "metadata": {},
   "source": [
    "## 2.1 Przegląd ekosystemu bibliotek NLP w Pythonie\n",
    "\n",
    "### Główne biblioteki:\n",
    "\n",
    "| Biblioteka | Zastosowanie | Poziom | Szybkość |\n",
    "|------------|--------------|--------|----------|\n",
    "| **NLTK** | Edukacja, prototypy | Początkujący | Wolna |\n",
    "| **spaCy** | Produkcja, pipeline'y | Średniozaawansowany | Szybka |\n",
    "| **Hugging Face** | Transformery, ML | Zaawansowany | Zależna od modelu |\n",
    "| **TextBlob** | Proste analizy | Początkujący | Średnia |\n",
    "| **Gensim** | Topic modeling | Średniozaawansowany | Średnia |\n",
    "| **OpenAI API** | LLM, generowanie | Wszystkie | Szybka |"
   ]
  },
  {
   "cell_type": "markdown",
   "metadata": {},
   "source": [
    "## 2.2 NLTK (Natural Language Toolkit)\n",
    "\n",
    "### Charakterystyka:\n",
    "- 📚 Najbardziej edukacyjna biblioteka\n",
    "- 🧰 Ponad 50 korpusów i zasobów leksykalnych\n",
    "- 🎓 Świetna do nauki podstaw NLP\n",
    "- ⚠️ Wolniejsza niż spaCy\n",
    "\n",
    "### Instalacja:\n",
    "```bash\n",
    "pip install nltk\n",
    "```"
   ]
  },
  {
   "cell_type": "code",
   "execution_count": null,
   "metadata": {},
   "source": [
    "# Instalacja i pobieranie zasobów NLTK\n",
    "import nltk\n",
    "\n",
    "# Pobierz podstawowe zasoby (wykonaj raz)\n",
    "resources = ['punkt', 'stopwords', 'averaged_perceptron_tagger', 'wordnet', 'omw-1.4']\n",
    "\n",
    "for resource in resources:\n",
    "    try:\n",
    "        nltk.download(resource, quiet=True)\n",
    "    except:\n",
    "        print(f\"Nie można pobrać: {resource}\")\n",
    "\n",
    "print(\"✅ NLTK zasoby pobrane!\")"
   ],
   "outputs": []
  },
  {
   "cell_type": "code",
   "execution_count": null,
   "metadata": {},
   "source": [
    "# Przykład użycia NLTK - tokenizacja\n",
    "from nltk.tokenize import word_tokenize, sent_tokenize\n",
    "from nltk.corpus import stopwords\n",
    "\n",
    "tekst = \"\"\"\n",
    "Natural Language Processing to fascynująca dziedzina sztucznej inteligencji.\n",
    "Pozwala komputerom rozumieć i generować ludzki język.\n",
    "\"\"\"\n",
    "\n",
    "# Tokenizacja zdań\n",
    "zdania = sent_tokenize(tekst)\n",
    "print(\"=== Zdania ===\")\n",
    "for i, zdanie in enumerate(zdania, 1):\n",
    "    print(f\"{i}. {zdanie.strip()}\")\n",
    "\n",
    "print(\"\\n=== Słowa ===\")\n",
    "# Tokenizacja słów\n",
    "slowa = word_tokenize(tekst)\n",
    "print(slowa[:15])"
   ],
   "outputs": []
  },
  {
   "cell_type": "code",
   "execution_count": null,
   "metadata": {},
   "source": [
    "# NLTK - Part of Speech Tagging (dla angielskiego)\n",
    "from nltk import pos_tag\n",
    "\n",
    "tekst_en = \"The quick brown fox jumps over the lazy dog.\"\n",
    "slowa_en = word_tokenize(tekst_en)\n",
    "tagged = pos_tag(slowa_en)\n",
    "\n",
    "print(\"=== POS Tagging (angielski) ===\")\n",
    "for slowo, tag in tagged:\n",
    "    print(f\"{slowo:15} -> {tag}\")"
   ],
   "outputs": []
  },
  {
   "cell_type": "markdown",
   "metadata": {},
   "source": [
    "## 2.3 spaCy - Produkcyjna biblioteka NLP\n",
    "\n",
    "### Charakterystyka:\n",
    "- 🚀 Bardzo szybka (zoptymalizowana w Cython)\n",
    "- 🏭 Gotowa do użycia w produkcji\n",
    "- 🌍 Wsparcie dla wielu języków (polski też!)\n",
    "- 🎯 Pipeline'y do konkretnych zadań\n",
    "\n",
    "### Instalacja:\n",
    "```bash\n",
    "pip install spacy\n",
    "python -m spacy download pl_core_news_sm  # model polski\n",
    "python -m spacy download en_core_web_sm   # model angielski\n",
    "```"
   ]
  },
  {
   "cell_type": "code",
   "execution_count": null,
   "metadata": {},
   "source": [
    "# Przykład użycia spaCy\n",
    "import spacy\n",
    "\n",
    "# Załaduj model polski (jeśli jest zainstalowany)\n",
    "try:\n",
    "    nlp = spacy.load(\"pl_core_news_sm\")\n",
    "    tekst = \"Jan Kowalski pracuje w Warszawie dla firmy Microsoft.\"\n",
    "except:\n",
    "    print(\"⚠️ Model polski nie jest zainstalowany. Używam angielskiego.\")\n",
    "    nlp = spacy.load(\"en_core_web_sm\")\n",
    "    tekst = \"John Smith works in New York for Microsoft Corporation.\"\n",
    "\n",
    "# Przetwórz tekst\n",
    "doc = nlp(tekst)\n",
    "\n",
    "print(\"=== Tokeny i ich właściwości ===\")\n",
    "for token in doc:\n",
    "    print(f\"{token.text:15} | Lemma: {token.lemma_:15} | POS: {token.pos_:8} | Tag: {token.tag_}\")"
   ],
   "outputs": []
  },
  {
   "cell_type": "code",
   "execution_count": null,
   "metadata": {},
   "source": [
    "# spaCy - Named Entity Recognition (NER)\n",
    "print(\"\\n=== Rozpoznawanie Nazwanych Encji (NER) ===\")\n",
    "\n",
    "for ent in doc.ents:\n",
    "    print(f\"{ent.text:20} -> {ent.label_:10} ({spacy.explain(ent.label_)})\")"
   ],
   "outputs": []
  },
  {
   "cell_type": "code",
   "execution_count": null,
   "metadata": {},
   "source": [
    "# spaCy - Dependency Parsing (analiza zależności)\n",
    "print(\"\\n=== Analiza zależności składniowych ===\")\n",
    "\n",
    "for token in doc:\n",
    "    print(f\"{token.text:15} <--[{token.dep_:10}]-- {token.head.text}\")"
   ],
   "outputs": []
  },
  {
   "cell_type": "code",
   "execution_count": null,
   "metadata": {},
   "source": [
    "# spaCy - Podobieństwo semantyczne\n",
    "try:\n",
    "    # Wymaga modelu z wektorami (np. en_core_web_md lub pl_core_news_md)\n",
    "    doc1 = nlp(\"kot\")\n",
    "    doc2 = nlp(\"pies\")\n",
    "    doc3 = nlp(\"samochód\")\n",
    "    \n",
    "    print(\"\\n=== Podobieństwo semantyczne ===\")\n",
    "    print(f\"Podobieństwo 'kot' <-> 'pies': {doc1.similarity(doc2):.3f}\")\n",
    "    print(f\"Podobieństwo 'kot' <-> 'samochód': {doc1.similarity(doc3):.3f}\")\n",
    "except:\n",
    "    print(\"\\n⚠️ Podobieństwo wymaga modelu z wektorami (np. en_core_web_md)\")"
   ],
   "outputs": []
  },
  {
   "cell_type": "markdown",
   "metadata": {},
   "source": [
    "## 2.4 Hugging Face Transformers - Nowoczesne modele NLP\n",
    "\n",
    "### Charakterystyka:\n",
    "- 🤗 Największa biblioteka modeli Transformer\n",
    "- 🚀 Tysiące pre-trenowanych modeli\n",
    "- 🌍 Wsparcie dla 100+ języków\n",
    "- 🔥 PyTorch i TensorFlow\n",
    "- 📦 Model Hub - łatwe pobieranie i dzielenie się modelami\n",
    "\n",
    "### Instalacja:\n",
    "```bash\n",
    "pip install transformers torch\n",
    "```"
   ]
  },
  {
   "cell_type": "code",
   "execution_count": null,
   "metadata": {},
   "source": [
    "# Przykład: Pipeline'y w Hugging Face\n",
    "from transformers import pipeline\n",
    "\n",
    "print(\"=== Pipeline do analizy sentymentu ===\")\n",
    "\n",
    "# Automatycznie pobiera i używa odpowiedniego modelu\n",
    "classifier = pipeline(\"sentiment-analysis\")\n",
    "\n",
    "teksty = [\n",
    "    \"I love this product!\",\n",
    "    \"This is terrible and disappointing.\",\n",
    "    \"It's okay, nothing special.\"\n",
    "]\n",
    "\n",
    "wyniki = classifier(teksty)\n",
    "\n",
    "for tekst, wynik in zip(teksty, wyniki):\n",
    "    print(f\"Tekst: {tekst}\")\n",
    "    print(f\"  -> {wynik['label']}: {wynik['score']:.3f}\")\n",
    "    print()"
   ],
   "outputs": []
  },
  {
   "cell_type": "code",
   "execution_count": null,
   "metadata": {},
   "source": [
    "# Pipeline do rozpoznawania nazwanych encji\n",
    "print(\"=== Named Entity Recognition ===\")\n",
    "\n",
    "ner = pipeline(\"ner\", grouped_entities=True)\n",
    "\n",
    "tekst = \"Elon Musk is the CEO of Tesla and SpaceX, based in California.\"\n",
    "entities = ner(tekst)\n",
    "\n",
    "for entity in entities:\n",
    "    print(f\"{entity['word']:20} -> {entity['entity_group']:10} (score: {entity['score']:.3f})\")"
   ],
   "outputs": []
  },
  {
   "cell_type": "code",
   "execution_count": null,
   "metadata": {},
   "source": [
    "# Pipeline do podsumowywania tekstu\n",
    "print(\"\\n=== Podsumowanie tekstu ===\")\n",
    "\n",
    "summarizer = pipeline(\"summarization\", model=\"facebook/bart-large-cnn\")\n",
    "\n",
    "dlugi_tekst = \"\"\"\n",
    "Artificial intelligence has made remarkable progress in recent years. \n",
    "Machine learning models, particularly deep neural networks, have achieved \n",
    "superhuman performance in many tasks. Natural language processing has \n",
    "especially benefited from transformer architectures like BERT and GPT. \n",
    "These models can understand context, generate human-like text, and perform \n",
    "various NLP tasks with minimal fine-tuning. The impact on industries \n",
    "ranging from healthcare to finance has been profound.\n",
    "\"\"\"\n",
    "\n",
    "streszczenie = summarizer(dlugi_tekst, max_length=50, min_length=25, do_sample=False)\n",
    "print(\"Oryginał:\", len(dlugi_tekst.split()), \"słów\")\n",
    "print(\"Streszczenie:\", streszczenie[0]['summary_text'])"
   ],
   "outputs": []
  },
  {
   "cell_type": "markdown",
   "metadata": {},
   "source": [
    "## 2.5 OpenAI API - Large Language Models\n",
    "\n",
    "### Charakterystyka:\n",
    "- 🧠 Najpotężniejsze modele językowe (GPT-4, GPT-3.5)\n",
    "- ☁️ API w chmurze - brak potrzeby własnej infrastruktury\n",
    "- 💰 Płatne (ale tanie dla małych projektów)\n",
    "- 🎯 Uniwersalne - jedna API do wielu zadań\n",
    "\n",
    "### Instalacja:\n",
    "```bash\n",
    "pip install openai\n",
    "```\n",
    "\n",
    "### Konfiguracja:\n",
    "Potrzebujesz klucza API z https://platform.openai.com/"
   ]
  },
  {
   "cell_type": "code",
   "execution_count": null,
   "metadata": {},
   "source": [
    "# Przykład użycia OpenAI API\n",
    "import os\n",
    "from openai import OpenAI\n",
    "\n",
    "# UWAGA: Ustaw swój klucz API\n",
    "# Sposób 1: Zmienna środowiskowa (zalecane)\n",
    "# export OPENAI_API_KEY='your-api-key'\n",
    "\n",
    "# Sposób 2: Bezpośrednio (NIE commituj do repozytorium!)\n",
    "# os.environ['OPENAI_API_KEY'] = 'your-api-key'\n",
    "\n",
    "try:\n",
    "    client = OpenAI()\n",
    "    \n",
    "    # Przykład: Analiza sentymentu\n",
    "    response = client.chat.completions.create(\n",
    "        model=\"gpt-3.5-turbo\",\n",
    "        messages=[\n",
    "            {\"role\": \"system\", \"content\": \"Jesteś ekspertem od analizy sentymentu. Odpowiadaj krótko: POZYTYWNY, NEGATYWNY lub NEUTRALNY.\"},\n",
    "            {\"role\": \"user\", \"content\": \"Oceń sentyment: Ten produkt jest fantastyczny! Bardzo polecam.\"}\n",
    "        ],\n",
    "        temperature=0\n",
    "    )\n",
    "    \n",
    "    print(\"=== OpenAI API - Analiza sentymentu ===\")\n",
    "    print(\"Odpowiedź:\", response.choices[0].message.content)\n",
    "    \n",
    "except Exception as e:\n",
    "    print(f\"⚠️ Błąd: {e}\")\n",
    "    print(\"Upewnij się, że masz ustawiony klucz API: OPENAI_API_KEY\")"
   ],
   "outputs": []
  },
  {
   "cell_type": "code",
   "execution_count": null,
   "metadata": {},
   "source": [
    "# Przykład: Ekstrakcja informacji z tekstu\n",
    "try:\n",
    "    tekst_do_analizy = \"\"\"\n",
    "    Firma TechCorp ogłosiła nową inwestycję w wysokości 50 milionów złotych. \n",
    "    CEO Jan Kowalski poinformował, że pieniądze zostaną przeznaczone na rozwój \n",
    "    sztucznej inteligencji. Projekt ma ruszyć w maju 2024 roku.\n",
    "    \"\"\"\n",
    "    \n",
    "    response = client.chat.completions.create(\n",
    "        model=\"gpt-3.5-turbo\",\n",
    "        messages=[\n",
    "            {\"role\": \"system\", \"content\": \"Wyciągnij z tekstu: firmę, osobę, kwotę i datę. Odpowiedz w formacie JSON.\"},\n",
    "            {\"role\": \"user\", \"content\": tekst_do_analizy}\n",
    "        ],\n",
    "        temperature=0\n",
    "    )\n",
    "    \n",
    "    print(\"\\n=== OpenAI API - Ekstrakcja informacji ===\")\n",
    "    print(response.choices[0].message.content)\n",
    "    \n",
    "except Exception as e:\n",
    "    print(f\"⚠️ OpenAI API niedostępne: {e}\")"
   ],
   "outputs": []
  },
  {
   "cell_type": "markdown",
   "metadata": {},
   "source": [
    "## 2.6 Porównanie bibliotek - Kiedy używać której?\n",
    "\n",
    "### NLTK - Używaj gdy:\n",
    "- ✅ Uczysz się NLP\n",
    "- ✅ Potrzebujesz podstawowych operacji\n",
    "- ✅ Pracujesz z korpusami lingwistycznymi\n",
    "- ✅ Robisz proste prototypy\n",
    "\n",
    "### spaCy - Używaj gdy:\n",
    "- ✅ Budujesz aplikację produkcyjną\n",
    "- ✅ Potrzebujesz szybkości\n",
    "- ✅ Pracujesz z pipeline'ami NLP\n",
    "- ✅ Chcesz gotowe rozwiązania (NER, POS, itp.)\n",
    "\n",
    "### Hugging Face - Używaj gdy:\n",
    "- ✅ Potrzebujesz najnowszych modeli Transformer\n",
    "- ✅ Pracujesz z wieloma językami\n",
    "- ✅ Fine-tuningujesz modele\n",
    "- ✅ Chcesz dostęp do tysięcy pre-trenowanych modeli\n",
    "\n",
    "### OpenAI API - Używaj gdy:\n",
    "- ✅ Potrzebujesz najlepszej jakości\n",
    "- ✅ Nie chcesz się martwić infrastrukturą\n",
    "- ✅ Zadanie wymaga rozumienia kontekstu\n",
    "- ✅ Budżet pozwala na API calls\n",
    "- ⚠️ Pamiętaj o prywatności danych!"
   ]
  },
  {
   "cell_type": "markdown",
   "metadata": {},
   "source": [
    "## Ćwiczenie praktyczne\n",
    "\n",
    "**Zadanie**: Wykonaj to samo zadanie NLP używając różnych bibliotek\n",
    "\n",
    "Zadanie: Znajdź wszystkie osoby i lokalizacje w tekście."
   ]
  },
  {
   "cell_type": "code",
   "execution_count": null,
   "metadata": {},
   "source": [
    "tekst_testowy = \"\"\"\n",
    "Adam Mickiewicz urodził się w Zaosiu niedaleko Nowogródka. \n",
    "Studiował na Uniwersytecie Wileńskim. Później przeniósł się do Paryża, \n",
    "gdzie poznał Juliusza Słowackiego.\n",
    "\"\"\"\n",
    "\n",
    "print(\"=== TEKST DO ANALIZY ===\")\n",
    "print(tekst_testowy)\n",
    "print(\"\\n\" + \"=\"*60)\n",
    "\n",
    "# TODO: Spróbuj wyciągnąć nazwane encje używając:\n",
    "# 1. spaCy\n",
    "# 2. Hugging Face\n",
    "# 3. OpenAI API\n",
    "\n",
    "# Który sposób działa najlepiej?\n",
    "# Który jest najszybszy?\n",
    "# Który jest najłatwiejszy w użyciu?"
   ],
   "outputs": []
  },
  {
   "cell_type": "code",
   "execution_count": null,
   "metadata": {},
   "source": [
    "# Rozwiązanie 1: spaCy\n",
    "try:\n",
    "    nlp = spacy.load(\"pl_core_news_sm\")\n",
    "    doc = nlp(tekst_testowy)\n",
    "    \n",
    "    print(\"\\n=== ROZWIĄZANIE: spaCy ===\")\n",
    "    osoby = [ent.text for ent in doc.ents if ent.label_ == \"persName\"]\n",
    "    miejsca = [ent.text for ent in doc.ents if ent.label_ in [\"placeName\", \"geogName\"]]\n",
    "    \n",
    "    print(f\"Osoby: {osoby}\")\n",
    "    print(f\"Miejsca: {miejsca}\")\n",
    "except Exception as e:\n",
    "    print(f\"spaCy: {e}\")"
   ],
   "outputs": []
  },
  {
   "cell_type": "code",
   "execution_count": null,
   "metadata": {},
   "source": [
    "# Rozwiązanie 2: Hugging Face\n",
    "try:\n",
    "    ner_pipeline = pipeline(\"ner\", model=\"dslim/bert-base-NER\", grouped_entities=True)\n",
    "    entities = ner_pipeline(tekst_testowy)\n",
    "    \n",
    "    print(\"\\n=== ROZWIĄZANIE: Hugging Face ===\")\n",
    "    osoby = [e['word'] for e in entities if e['entity_group'] == 'PER']\n",
    "    miejsca = [e['word'] for e in entities if e['entity_group'] == 'LOC']\n",
    "    \n",
    "    print(f\"Osoby: {osoby}\")\n",
    "    print(f\"Miejsca: {miejsca}\")\n",
    "except Exception as e:\n",
    "    print(f\"Hugging Face: {e}\")"
   ],
   "outputs": []
  },
  {
   "cell_type": "markdown",
   "metadata": {},
   "source": [
    "## Podsumowanie Modułu 2\n",
    "\n",
    "✅ Poznaliśmy główne biblioteki NLP (NLTK, spaCy, Hugging Face, OpenAI)\n",
    "\n",
    "✅ Nauczyliśmy się instalować i konfigurować narzędzia\n",
    "\n",
    "✅ Wykonaliśmy praktyczne przykłady z każdej biblioteki\n",
    "\n",
    "✅ Wiemy kiedy używać której biblioteki\n",
    "\n",
    "---\n",
    "\n",
    "**Następny krok**: Moduł 3 - Podstawowe operacje w NLP"
   ]
  }
 ],
 "metadata": {
  "kernelspec": {
   "display_name": "Python 3",
   "language": "python",
   "name": "python3"
  },
  "language_info": {
   "name": "python",
   "version": "3.8.0"
  }
 },
 "nbformat": 4,
 "nbformat_minor": 4
}
